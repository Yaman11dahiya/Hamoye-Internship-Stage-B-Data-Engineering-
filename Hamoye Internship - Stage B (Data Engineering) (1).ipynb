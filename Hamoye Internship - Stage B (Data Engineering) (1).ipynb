{
 "cells": [
  {
   "cell_type": "markdown",
   "id": "15a1247f",
   "metadata": {},
   "source": [
    "# Hamoye Internship - Stage B (Data Engineering)"
   ]
  },
  {
   "cell_type": "markdown",
   "id": "63818401",
   "metadata": {},
   "source": [
    "# Yaman Dahiya\n",
    "# ID: 18998c116cc1f000"
   ]
  },
  {
   "cell_type": "code",
   "execution_count": 1,
   "id": "a5d51ad0",
   "metadata": {},
   "outputs": [],
   "source": [
    "import numpy as np\n",
    "import pandas as pd\n",
    "from sklearn.model_selection import train_test_split\n",
    "from sklearn.linear_model import LinearRegression\n",
    "from sklearn.preprocessing import MinMaxScaler\n",
    "from sklearn.metrics import mean_absolute_error\n",
    "from sklearn.metrics import mean_squared_error\n",
    "from sklearn.linear_model import Ridge\n",
    "from sklearn.linear_model import Lasso"
   ]
  },
  {
   "cell_type": "code",
   "execution_count": 2,
   "id": "011d068d",
   "metadata": {},
   "outputs": [
    {
     "data": {
      "text/html": [
       "<div>\n",
       "<style scoped>\n",
       "    .dataframe tbody tr th:only-of-type {\n",
       "        vertical-align: middle;\n",
       "    }\n",
       "\n",
       "    .dataframe tbody tr th {\n",
       "        vertical-align: top;\n",
       "    }\n",
       "\n",
       "    .dataframe thead th {\n",
       "        text-align: right;\n",
       "    }\n",
       "</style>\n",
       "<table border=\"1\" class=\"dataframe\">\n",
       "  <thead>\n",
       "    <tr style=\"text-align: right;\">\n",
       "      <th></th>\n",
       "      <th>date</th>\n",
       "      <th>Appliances</th>\n",
       "      <th>lights</th>\n",
       "      <th>T1</th>\n",
       "      <th>RH_1</th>\n",
       "      <th>T2</th>\n",
       "      <th>RH_2</th>\n",
       "      <th>T3</th>\n",
       "      <th>RH_3</th>\n",
       "      <th>T4</th>\n",
       "      <th>...</th>\n",
       "      <th>T9</th>\n",
       "      <th>RH_9</th>\n",
       "      <th>T_out</th>\n",
       "      <th>Press_mm_hg</th>\n",
       "      <th>RH_out</th>\n",
       "      <th>Windspeed</th>\n",
       "      <th>Visibility</th>\n",
       "      <th>Tdewpoint</th>\n",
       "      <th>rv1</th>\n",
       "      <th>rv2</th>\n",
       "    </tr>\n",
       "  </thead>\n",
       "  <tbody>\n",
       "    <tr>\n",
       "      <th>0</th>\n",
       "      <td>2016-01-11 17:00:00</td>\n",
       "      <td>60</td>\n",
       "      <td>30</td>\n",
       "      <td>19.890000</td>\n",
       "      <td>47.596667</td>\n",
       "      <td>19.20</td>\n",
       "      <td>44.790000</td>\n",
       "      <td>19.79</td>\n",
       "      <td>44.730000</td>\n",
       "      <td>19.000000</td>\n",
       "      <td>...</td>\n",
       "      <td>17.033333</td>\n",
       "      <td>45.53</td>\n",
       "      <td>6.600000</td>\n",
       "      <td>733.500000</td>\n",
       "      <td>92.000000</td>\n",
       "      <td>7.000000</td>\n",
       "      <td>63.000000</td>\n",
       "      <td>5.300000</td>\n",
       "      <td>13.275433</td>\n",
       "      <td>13.275433</td>\n",
       "    </tr>\n",
       "    <tr>\n",
       "      <th>1</th>\n",
       "      <td>2016-01-11 17:10:00</td>\n",
       "      <td>60</td>\n",
       "      <td>30</td>\n",
       "      <td>19.890000</td>\n",
       "      <td>46.693333</td>\n",
       "      <td>19.20</td>\n",
       "      <td>44.722500</td>\n",
       "      <td>19.79</td>\n",
       "      <td>44.790000</td>\n",
       "      <td>19.000000</td>\n",
       "      <td>...</td>\n",
       "      <td>17.066667</td>\n",
       "      <td>45.56</td>\n",
       "      <td>6.483333</td>\n",
       "      <td>733.600000</td>\n",
       "      <td>92.000000</td>\n",
       "      <td>6.666667</td>\n",
       "      <td>59.166667</td>\n",
       "      <td>5.200000</td>\n",
       "      <td>18.606195</td>\n",
       "      <td>18.606195</td>\n",
       "    </tr>\n",
       "    <tr>\n",
       "      <th>2</th>\n",
       "      <td>2016-01-11 17:20:00</td>\n",
       "      <td>50</td>\n",
       "      <td>30</td>\n",
       "      <td>19.890000</td>\n",
       "      <td>46.300000</td>\n",
       "      <td>19.20</td>\n",
       "      <td>44.626667</td>\n",
       "      <td>19.79</td>\n",
       "      <td>44.933333</td>\n",
       "      <td>18.926667</td>\n",
       "      <td>...</td>\n",
       "      <td>17.000000</td>\n",
       "      <td>45.50</td>\n",
       "      <td>6.366667</td>\n",
       "      <td>733.700000</td>\n",
       "      <td>92.000000</td>\n",
       "      <td>6.333333</td>\n",
       "      <td>55.333333</td>\n",
       "      <td>5.100000</td>\n",
       "      <td>28.642668</td>\n",
       "      <td>28.642668</td>\n",
       "    </tr>\n",
       "    <tr>\n",
       "      <th>3</th>\n",
       "      <td>2016-01-11 17:30:00</td>\n",
       "      <td>50</td>\n",
       "      <td>40</td>\n",
       "      <td>19.890000</td>\n",
       "      <td>46.066667</td>\n",
       "      <td>19.20</td>\n",
       "      <td>44.590000</td>\n",
       "      <td>19.79</td>\n",
       "      <td>45.000000</td>\n",
       "      <td>18.890000</td>\n",
       "      <td>...</td>\n",
       "      <td>17.000000</td>\n",
       "      <td>45.40</td>\n",
       "      <td>6.250000</td>\n",
       "      <td>733.800000</td>\n",
       "      <td>92.000000</td>\n",
       "      <td>6.000000</td>\n",
       "      <td>51.500000</td>\n",
       "      <td>5.000000</td>\n",
       "      <td>45.410389</td>\n",
       "      <td>45.410389</td>\n",
       "    </tr>\n",
       "    <tr>\n",
       "      <th>4</th>\n",
       "      <td>2016-01-11 17:40:00</td>\n",
       "      <td>60</td>\n",
       "      <td>40</td>\n",
       "      <td>19.890000</td>\n",
       "      <td>46.333333</td>\n",
       "      <td>19.20</td>\n",
       "      <td>44.530000</td>\n",
       "      <td>19.79</td>\n",
       "      <td>45.000000</td>\n",
       "      <td>18.890000</td>\n",
       "      <td>...</td>\n",
       "      <td>17.000000</td>\n",
       "      <td>45.40</td>\n",
       "      <td>6.133333</td>\n",
       "      <td>733.900000</td>\n",
       "      <td>92.000000</td>\n",
       "      <td>5.666667</td>\n",
       "      <td>47.666667</td>\n",
       "      <td>4.900000</td>\n",
       "      <td>10.084097</td>\n",
       "      <td>10.084097</td>\n",
       "    </tr>\n",
       "    <tr>\n",
       "      <th>5</th>\n",
       "      <td>2016-01-11 17:50:00</td>\n",
       "      <td>50</td>\n",
       "      <td>40</td>\n",
       "      <td>19.890000</td>\n",
       "      <td>46.026667</td>\n",
       "      <td>19.20</td>\n",
       "      <td>44.500000</td>\n",
       "      <td>19.79</td>\n",
       "      <td>44.933333</td>\n",
       "      <td>18.890000</td>\n",
       "      <td>...</td>\n",
       "      <td>17.000000</td>\n",
       "      <td>45.29</td>\n",
       "      <td>6.016667</td>\n",
       "      <td>734.000000</td>\n",
       "      <td>92.000000</td>\n",
       "      <td>5.333333</td>\n",
       "      <td>43.833333</td>\n",
       "      <td>4.800000</td>\n",
       "      <td>44.919484</td>\n",
       "      <td>44.919484</td>\n",
       "    </tr>\n",
       "    <tr>\n",
       "      <th>6</th>\n",
       "      <td>2016-01-11 18:00:00</td>\n",
       "      <td>60</td>\n",
       "      <td>50</td>\n",
       "      <td>19.890000</td>\n",
       "      <td>45.766667</td>\n",
       "      <td>19.20</td>\n",
       "      <td>44.500000</td>\n",
       "      <td>19.79</td>\n",
       "      <td>44.900000</td>\n",
       "      <td>18.890000</td>\n",
       "      <td>...</td>\n",
       "      <td>17.000000</td>\n",
       "      <td>45.29</td>\n",
       "      <td>5.900000</td>\n",
       "      <td>734.100000</td>\n",
       "      <td>92.000000</td>\n",
       "      <td>5.000000</td>\n",
       "      <td>40.000000</td>\n",
       "      <td>4.700000</td>\n",
       "      <td>47.233763</td>\n",
       "      <td>47.233763</td>\n",
       "    </tr>\n",
       "    <tr>\n",
       "      <th>7</th>\n",
       "      <td>2016-01-11 18:10:00</td>\n",
       "      <td>60</td>\n",
       "      <td>50</td>\n",
       "      <td>19.856667</td>\n",
       "      <td>45.560000</td>\n",
       "      <td>19.20</td>\n",
       "      <td>44.500000</td>\n",
       "      <td>19.73</td>\n",
       "      <td>44.900000</td>\n",
       "      <td>18.890000</td>\n",
       "      <td>...</td>\n",
       "      <td>17.000000</td>\n",
       "      <td>45.29</td>\n",
       "      <td>5.916667</td>\n",
       "      <td>734.166667</td>\n",
       "      <td>91.833333</td>\n",
       "      <td>5.166667</td>\n",
       "      <td>40.000000</td>\n",
       "      <td>4.683333</td>\n",
       "      <td>33.039890</td>\n",
       "      <td>33.039890</td>\n",
       "    </tr>\n",
       "    <tr>\n",
       "      <th>8</th>\n",
       "      <td>2016-01-11 18:20:00</td>\n",
       "      <td>60</td>\n",
       "      <td>40</td>\n",
       "      <td>19.790000</td>\n",
       "      <td>45.597500</td>\n",
       "      <td>19.20</td>\n",
       "      <td>44.433333</td>\n",
       "      <td>19.73</td>\n",
       "      <td>44.790000</td>\n",
       "      <td>18.890000</td>\n",
       "      <td>...</td>\n",
       "      <td>17.000000</td>\n",
       "      <td>45.29</td>\n",
       "      <td>5.933333</td>\n",
       "      <td>734.233333</td>\n",
       "      <td>91.666667</td>\n",
       "      <td>5.333333</td>\n",
       "      <td>40.000000</td>\n",
       "      <td>4.666667</td>\n",
       "      <td>31.455702</td>\n",
       "      <td>31.455702</td>\n",
       "    </tr>\n",
       "    <tr>\n",
       "      <th>9</th>\n",
       "      <td>2016-01-11 18:30:00</td>\n",
       "      <td>70</td>\n",
       "      <td>40</td>\n",
       "      <td>19.856667</td>\n",
       "      <td>46.090000</td>\n",
       "      <td>19.23</td>\n",
       "      <td>44.400000</td>\n",
       "      <td>19.79</td>\n",
       "      <td>44.863333</td>\n",
       "      <td>18.890000</td>\n",
       "      <td>...</td>\n",
       "      <td>17.000000</td>\n",
       "      <td>45.29</td>\n",
       "      <td>5.950000</td>\n",
       "      <td>734.300000</td>\n",
       "      <td>91.500000</td>\n",
       "      <td>5.500000</td>\n",
       "      <td>40.000000</td>\n",
       "      <td>4.650000</td>\n",
       "      <td>3.089314</td>\n",
       "      <td>3.089314</td>\n",
       "    </tr>\n",
       "  </tbody>\n",
       "</table>\n",
       "<p>10 rows × 29 columns</p>\n",
       "</div>"
      ],
      "text/plain": [
       "                  date  Appliances  lights         T1       RH_1     T2  \\\n",
       "0  2016-01-11 17:00:00          60      30  19.890000  47.596667  19.20   \n",
       "1  2016-01-11 17:10:00          60      30  19.890000  46.693333  19.20   \n",
       "2  2016-01-11 17:20:00          50      30  19.890000  46.300000  19.20   \n",
       "3  2016-01-11 17:30:00          50      40  19.890000  46.066667  19.20   \n",
       "4  2016-01-11 17:40:00          60      40  19.890000  46.333333  19.20   \n",
       "5  2016-01-11 17:50:00          50      40  19.890000  46.026667  19.20   \n",
       "6  2016-01-11 18:00:00          60      50  19.890000  45.766667  19.20   \n",
       "7  2016-01-11 18:10:00          60      50  19.856667  45.560000  19.20   \n",
       "8  2016-01-11 18:20:00          60      40  19.790000  45.597500  19.20   \n",
       "9  2016-01-11 18:30:00          70      40  19.856667  46.090000  19.23   \n",
       "\n",
       "        RH_2     T3       RH_3         T4  ...         T9   RH_9     T_out  \\\n",
       "0  44.790000  19.79  44.730000  19.000000  ...  17.033333  45.53  6.600000   \n",
       "1  44.722500  19.79  44.790000  19.000000  ...  17.066667  45.56  6.483333   \n",
       "2  44.626667  19.79  44.933333  18.926667  ...  17.000000  45.50  6.366667   \n",
       "3  44.590000  19.79  45.000000  18.890000  ...  17.000000  45.40  6.250000   \n",
       "4  44.530000  19.79  45.000000  18.890000  ...  17.000000  45.40  6.133333   \n",
       "5  44.500000  19.79  44.933333  18.890000  ...  17.000000  45.29  6.016667   \n",
       "6  44.500000  19.79  44.900000  18.890000  ...  17.000000  45.29  5.900000   \n",
       "7  44.500000  19.73  44.900000  18.890000  ...  17.000000  45.29  5.916667   \n",
       "8  44.433333  19.73  44.790000  18.890000  ...  17.000000  45.29  5.933333   \n",
       "9  44.400000  19.79  44.863333  18.890000  ...  17.000000  45.29  5.950000   \n",
       "\n",
       "   Press_mm_hg     RH_out  Windspeed  Visibility  Tdewpoint        rv1  \\\n",
       "0   733.500000  92.000000   7.000000   63.000000   5.300000  13.275433   \n",
       "1   733.600000  92.000000   6.666667   59.166667   5.200000  18.606195   \n",
       "2   733.700000  92.000000   6.333333   55.333333   5.100000  28.642668   \n",
       "3   733.800000  92.000000   6.000000   51.500000   5.000000  45.410389   \n",
       "4   733.900000  92.000000   5.666667   47.666667   4.900000  10.084097   \n",
       "5   734.000000  92.000000   5.333333   43.833333   4.800000  44.919484   \n",
       "6   734.100000  92.000000   5.000000   40.000000   4.700000  47.233763   \n",
       "7   734.166667  91.833333   5.166667   40.000000   4.683333  33.039890   \n",
       "8   734.233333  91.666667   5.333333   40.000000   4.666667  31.455702   \n",
       "9   734.300000  91.500000   5.500000   40.000000   4.650000   3.089314   \n",
       "\n",
       "         rv2  \n",
       "0  13.275433  \n",
       "1  18.606195  \n",
       "2  28.642668  \n",
       "3  45.410389  \n",
       "4  10.084097  \n",
       "5  44.919484  \n",
       "6  47.233763  \n",
       "7  33.039890  \n",
       "8  31.455702  \n",
       "9   3.089314  \n",
       "\n",
       "[10 rows x 29 columns]"
      ]
     },
     "execution_count": 2,
     "metadata": {},
     "output_type": "execute_result"
    }
   ],
   "source": [
    "data = pd.read_csv(\"energydata_complete.csv\")\n",
    "data.head(10)"
   ]
  },
  {
   "cell_type": "code",
   "execution_count": 3,
   "id": "4eda291b",
   "metadata": {},
   "outputs": [
    {
     "name": "stdout",
     "output_type": "stream",
     "text": [
      "<class 'pandas.core.frame.DataFrame'>\n",
      "RangeIndex: 19735 entries, 0 to 19734\n",
      "Data columns (total 29 columns):\n",
      " #   Column       Non-Null Count  Dtype  \n",
      "---  ------       --------------  -----  \n",
      " 0   date         19735 non-null  object \n",
      " 1   Appliances   19735 non-null  int64  \n",
      " 2   lights       19735 non-null  int64  \n",
      " 3   T1           19735 non-null  float64\n",
      " 4   RH_1         19735 non-null  float64\n",
      " 5   T2           19735 non-null  float64\n",
      " 6   RH_2         19735 non-null  float64\n",
      " 7   T3           19735 non-null  float64\n",
      " 8   RH_3         19735 non-null  float64\n",
      " 9   T4           19735 non-null  float64\n",
      " 10  RH_4         19735 non-null  float64\n",
      " 11  T5           19735 non-null  float64\n",
      " 12  RH_5         19735 non-null  float64\n",
      " 13  T6           19735 non-null  float64\n",
      " 14  RH_6         19735 non-null  float64\n",
      " 15  T7           19735 non-null  float64\n",
      " 16  RH_7         19735 non-null  float64\n",
      " 17  T8           19735 non-null  float64\n",
      " 18  RH_8         19735 non-null  float64\n",
      " 19  T9           19735 non-null  float64\n",
      " 20  RH_9         19735 non-null  float64\n",
      " 21  T_out        19735 non-null  float64\n",
      " 22  Press_mm_hg  19735 non-null  float64\n",
      " 23  RH_out       19735 non-null  float64\n",
      " 24  Windspeed    19735 non-null  float64\n",
      " 25  Visibility   19735 non-null  float64\n",
      " 26  Tdewpoint    19735 non-null  float64\n",
      " 27  rv1          19735 non-null  float64\n",
      " 28  rv2          19735 non-null  float64\n",
      "dtypes: float64(26), int64(2), object(1)\n",
      "memory usage: 4.4+ MB\n"
     ]
    }
   ],
   "source": [
    "data.info()"
   ]
  },
  {
   "cell_type": "markdown",
   "id": "9d8fbe16",
   "metadata": {},
   "source": [
    "Q15. From the dataset, fit a linear model on the relationship between the temperature in the living room in Celsius (x = T2) and the temperature outside the building (y = T6). What is the Root Mean Squared error in three D.P?"
   ]
  },
  {
   "cell_type": "code",
   "execution_count": 4,
   "id": "d8d1a606",
   "metadata": {},
   "outputs": [
    {
     "name": "stdout",
     "output_type": "stream",
     "text": [
      "Root Mean Squared Error: 3.633\n"
     ]
    }
   ],
   "source": [
    "X = data[['T2']]\n",
    "y = data['T6']\n",
    "X_train, X_test, y_train, y_test = train_test_split(X, y, test_size=0.2, random_state=42)\n",
    "\n",
    "model = LinearRegression()\n",
    "model.fit(X_train, y_train)\n",
    "y_pred = model.predict(X_test)\n",
    "\n",
    "rmse = np.sqrt(mean_squared_error(y_test, y_pred))\n",
    "print(\"Root Mean Squared Error:\", \"{:.3f}\".format(rmse))"
   ]
  },
  {
   "cell_type": "markdown",
   "id": "cf372f89",
   "metadata": {},
   "source": [
    "Q18. Remove the following columns: [“date”, “lights”]. The target variable is “Appliances”. Use a 70-30 train-test set split with a  random state of 42 (for reproducibility). Normalize the dataset using the MinMaxScaler (Hint: Use the MinMaxScaler fit_transform and transform methods on the train and test set respectively). Run a multiple linear regression using the training set. Answer the following questions:\n",
    "\n",
    "What is the Mean Absolute Error (in three decimal places) for the  training set?"
   ]
  },
  {
   "cell_type": "code",
   "execution_count": 5,
   "id": "0fb66770",
   "metadata": {},
   "outputs": [
    {
     "name": "stdout",
     "output_type": "stream",
     "text": [
      "Mean Absolute Error (MAE) for the training set: 53.744\n"
     ]
    }
   ],
   "source": [
    "data = data.drop(columns=['date', 'lights'])\n",
    "X = data.drop(columns=['Appliances'])\n",
    "y = data['Appliances']\n",
    "X_train, X_test, y_train, y_test = train_test_split(X, y, test_size=0.3, random_state=42)\n",
    "\n",
    "scaler = MinMaxScaler()\n",
    "X_train_scaled = scaler.fit_transform(X_train)\n",
    "X_test_scaled = scaler.transform(X_test)\n",
    "\n",
    "model = LinearRegression()\n",
    "model.fit(X_train_scaled, y_train)\n",
    "y_train_pred = model.predict(X_train_scaled)\n",
    "\n",
    "mae_train = mean_absolute_error(y_train, y_train_pred)\n",
    "print(\"Mean Absolute Error (MAE) for the training set: {:.3f}\".format(mae_train))"
   ]
  },
  {
   "cell_type": "markdown",
   "id": "26a913d2",
   "metadata": {},
   "source": [
    "Q19. What is the Root Mean Squared Error (in three decimal places) for the training set?"
   ]
  },
  {
   "cell_type": "code",
   "execution_count": 6,
   "id": "fe5f7343",
   "metadata": {},
   "outputs": [
    {
     "name": "stdout",
     "output_type": "stream",
     "text": [
      "Root Mean Squared Error (RMSE) for the training set: 95.216\n"
     ]
    }
   ],
   "source": [
    "y_train_pred = model.predict(X_train_scaled)\n",
    "mse_train = mean_squared_error(y_train, y_train_pred)\n",
    "rmse_train = np.sqrt(mse_train)\n",
    "print(\"Root Mean Squared Error (RMSE) for the training set: {:.3f}\".format(rmse_train))"
   ]
  },
  {
   "cell_type": "markdown",
   "id": "b72a3bef",
   "metadata": {},
   "source": [
    "Q20. What is the Mean Absolute Error (in three decimal places) for test set?"
   ]
  },
  {
   "cell_type": "code",
   "execution_count": 7,
   "id": "4401b51b",
   "metadata": {},
   "outputs": [
    {
     "name": "stdout",
     "output_type": "stream",
     "text": [
      "Mean Absolute Error (MAE) for the test set: 53.645\n"
     ]
    }
   ],
   "source": [
    "y_test_pred = model.predict(X_test_scaled)\n",
    "mae_test = mean_absolute_error(y_test, y_test_pred)\n",
    "print(\"Mean Absolute Error (MAE) for the test set: {:.3f}\".format(mae_test))"
   ]
  },
  {
   "cell_type": "markdown",
   "id": "7984ecbb",
   "metadata": {},
   "source": [
    "Q21. What is the Root Mean Squared Error (in three decimal places) for test set?"
   ]
  },
  {
   "cell_type": "code",
   "execution_count": 8,
   "id": "a80fdc9c",
   "metadata": {},
   "outputs": [
    {
     "name": "stdout",
     "output_type": "stream",
     "text": [
      "Root Mean Squared Error (RMSE) for the test set: 93.640\n"
     ]
    }
   ],
   "source": [
    "y_test_pred = model.predict(X_test_scaled)\n",
    "mse_test = mean_squared_error(y_test, y_test_pred)\n",
    "rmse_test = np.sqrt(mse_test)\n",
    "print(\"Root Mean Squared Error (RMSE) for the test set: {:.3f}\".format(rmse_test))"
   ]
  },
  {
   "cell_type": "markdown",
   "id": "877a842f",
   "metadata": {},
   "source": [
    "Q22. Did the Model above overfit to the training set?\n",
    "Ans. No"
   ]
  },
  {
   "cell_type": "markdown",
   "id": "f54afcbb",
   "metadata": {},
   "source": [
    "Q23. Train a ridge regression model with default parameters. Is there any change to the root mean squared error (RMSE) when evaluated on the test set?\n",
    "Ans.  Yes"
   ]
  },
  {
   "cell_type": "code",
   "execution_count": 9,
   "id": "15277619",
   "metadata": {},
   "outputs": [
    {
     "name": "stdout",
     "output_type": "stream",
     "text": [
      "Root Mean Squared Error (RMSE) for the test set with Ridge regression: 93.709\n"
     ]
    }
   ],
   "source": [
    "ridge_model = Ridge()\n",
    "ridge_model.fit(X_train_scaled, y_train)\n",
    "y_test_pred_ridge = ridge_model.predict(X_test_scaled)\n",
    "\n",
    "rmse_test_ridge = np.sqrt(mean_squared_error(y_test, y_test_pred_ridge))\n",
    "print(\"Root Mean Squared Error (RMSE) for the test set with Ridge regression: {:.3f}\".format(rmse_test_ridge))"
   ]
  },
  {
   "cell_type": "markdown",
   "id": "7405eb5a",
   "metadata": {},
   "source": [
    "Q24. Train a lasso regression model with default value and obtain the new feature weights with it. How many of the features have non-zero feature weights? "
   ]
  },
  {
   "cell_type": "code",
   "execution_count": 10,
   "id": "c72b5808",
   "metadata": {},
   "outputs": [
    {
     "name": "stdout",
     "output_type": "stream",
     "text": [
      "Number of features with non-zero feature weights: 4\n"
     ]
    }
   ],
   "source": [
    "lasso_model = Lasso()\n",
    "lasso_model.fit(X_train_scaled, y_train)\n",
    "feature_weights = lasso_model.coef_\n",
    "num_non_zero_weights = np.sum(feature_weights != 0)\n",
    "print(\"Number of features with non-zero feature weights:\", num_non_zero_weights)"
   ]
  },
  {
   "cell_type": "markdown",
   "id": "8dd40b84",
   "metadata": {},
   "source": [
    "Q25. What is the new RMSE with the Lasso Regression on the test set?"
   ]
  },
  {
   "cell_type": "code",
   "execution_count": 11,
   "id": "808ba8c9",
   "metadata": {},
   "outputs": [
    {
     "name": "stdout",
     "output_type": "stream",
     "text": [
      "Root Mean Squared Error (RMSE) for the test set with Lasso regression : 99.424\n"
     ]
    }
   ],
   "source": [
    "lasso_model = Lasso()\n",
    "lasso_model.fit(X_train_scaled, y_train)\n",
    "y_test_pred_lasso = lasso_model.predict(X_test_scaled)\n",
    "rmse_test_lasso = np.sqrt(mean_squared_error(y_test, y_test_pred_lasso))\n",
    "print(\"Root Mean Squared Error (RMSE) for the test set with Lasso regression : {:.3f}\".format(rmse_test_lasso))"
   ]
  },
  {
   "cell_type": "code",
   "execution_count": null,
   "id": "27633b3c-1b5c-4965-ad7d-b9790900f36c",
   "metadata": {},
   "outputs": [],
   "source": []
  }
 ],
 "metadata": {
  "kernelspec": {
   "display_name": "Python 3 (ipykernel)",
   "language": "python",
   "name": "python3"
  },
  "language_info": {
   "codemirror_mode": {
    "name": "ipython",
    "version": 3
   },
   "file_extension": ".py",
   "mimetype": "text/x-python",
   "name": "python",
   "nbconvert_exporter": "python",
   "pygments_lexer": "ipython3",
   "version": "3.12.3"
  }
 },
 "nbformat": 4,
 "nbformat_minor": 5
}
